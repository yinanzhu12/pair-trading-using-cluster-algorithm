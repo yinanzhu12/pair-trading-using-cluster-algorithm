{
 "cells": [
  {
   "cell_type": "code",
   "execution_count": 233,
   "metadata": {
    "collapsed": false
   },
   "outputs": [],
   "source": [
    "import matplotlib.pyplot as plt\n",
    "import matplotlib.cm as cm\n",
    "import numpy as np\n",
    "import pandas as pd\n",
    "from sklearn.cluster import DBSCAN\n",
    "from sklearn.decomposition import PCA\n",
    "from sklearn import preprocessing\n",
    "from statsmodels.tsa.stattools import coint\n",
    "import statsmodels.api as sm\n",
    "from quantopian.pipeline.data import morningstar\n",
    "from quantopian.pipeline.filters import QTradableStocksUS\n",
    "from quantopian.pipeline import Pipeline\n",
    "from quantopian.research import run_pipeline\n",
    "from quantopian.pipeline.classifiers.fundamentals import Sector"
   ]
  },
  {
   "cell_type": "code",
   "execution_count": 239,
   "metadata": {
    "collapsed": true
   },
   "outputs": [],
   "source": [
    "def make_pipeline():\n",
    "    industry=morningstar.asset_classification.morningstar_industry_group_code.latest\n",
    "    financial_health=morningstar.asset_classification.financial_health_grade.latest\n",
    "    pipe_screen=(QTradableStocksUS()&financial_health.notnull()&(~industry.eq(31055)))\n",
    "    pipe=Pipeline(screen=pipe_screen,columns={'sector': Sector()})\n",
    "    return pipe"
   ]
  },
  {
   "cell_type": "code",
   "execution_count": 235,
   "metadata": {
    "collapsed": true
   },
   "outputs": [],
   "source": [
    "start_date='2013-1-1'\n",
    "end_date='2017-12-31'"
   ]
  },
  {
   "cell_type": "code",
   "execution_count": 240,
   "metadata": {
    "collapsed": false
   },
   "outputs": [
    {
     "data": {
      "text/html": [
       "<div>\n",
       "<table border=\"1\" class=\"dataframe\">\n",
       "  <thead>\n",
       "    <tr style=\"text-align: right;\">\n",
       "      <th></th>\n",
       "      <th></th>\n",
       "      <th>sector</th>\n",
       "    </tr>\n",
       "  </thead>\n",
       "  <tbody>\n",
       "    <tr>\n",
       "      <th rowspan=\"61\" valign=\"top\">2018-01-02 00:00:00+00:00</th>\n",
       "      <th>Equity(2 [ARNC])</th>\n",
       "      <td>310</td>\n",
       "    </tr>\n",
       "    <tr>\n",
       "      <th>Equity(24 [AAPL])</th>\n",
       "      <td>311</td>\n",
       "    </tr>\n",
       "    <tr>\n",
       "      <th>Equity(31 [ABAX])</th>\n",
       "      <td>206</td>\n",
       "    </tr>\n",
       "    <tr>\n",
       "      <th>Equity(41 [ARCB])</th>\n",
       "      <td>310</td>\n",
       "    </tr>\n",
       "    <tr>\n",
       "      <th>Equity(52 [ABM])</th>\n",
       "      <td>310</td>\n",
       "    </tr>\n",
       "    <tr>\n",
       "      <th>Equity(53 [ABMD])</th>\n",
       "      <td>206</td>\n",
       "    </tr>\n",
       "    <tr>\n",
       "      <th>Equity(62 [ABT])</th>\n",
       "      <td>206</td>\n",
       "    </tr>\n",
       "    <tr>\n",
       "      <th>Equity(64 [ABX])</th>\n",
       "      <td>101</td>\n",
       "    </tr>\n",
       "    <tr>\n",
       "      <th>Equity(67 [ADSK])</th>\n",
       "      <td>311</td>\n",
       "    </tr>\n",
       "    <tr>\n",
       "      <th>Equity(76 [TAP])</th>\n",
       "      <td>205</td>\n",
       "    </tr>\n",
       "    <tr>\n",
       "      <th>Equity(110 [ACXM])</th>\n",
       "      <td>311</td>\n",
       "    </tr>\n",
       "    <tr>\n",
       "      <th>Equity(114 [ADBE])</th>\n",
       "      <td>311</td>\n",
       "    </tr>\n",
       "    <tr>\n",
       "      <th>Equity(122 [ADI])</th>\n",
       "      <td>311</td>\n",
       "    </tr>\n",
       "    <tr>\n",
       "      <th>Equity(128 [ADM])</th>\n",
       "      <td>205</td>\n",
       "    </tr>\n",
       "    <tr>\n",
       "      <th>Equity(154 [AEM])</th>\n",
       "      <td>101</td>\n",
       "    </tr>\n",
       "    <tr>\n",
       "      <th>Equity(161 [AEP])</th>\n",
       "      <td>207</td>\n",
       "    </tr>\n",
       "    <tr>\n",
       "      <th>Equity(166 [AES])</th>\n",
       "      <td>207</td>\n",
       "    </tr>\n",
       "    <tr>\n",
       "      <th>Equity(185 [AFL])</th>\n",
       "      <td>103</td>\n",
       "    </tr>\n",
       "    <tr>\n",
       "      <th>Equity(197 [AGCO])</th>\n",
       "      <td>310</td>\n",
       "    </tr>\n",
       "    <tr>\n",
       "      <th>Equity(216 [HES])</th>\n",
       "      <td>309</td>\n",
       "    </tr>\n",
       "    <tr>\n",
       "      <th>Equity(239 [AIG])</th>\n",
       "      <td>103</td>\n",
       "    </tr>\n",
       "    <tr>\n",
       "      <th>Equity(247 [AIN])</th>\n",
       "      <td>102</td>\n",
       "    </tr>\n",
       "    <tr>\n",
       "      <th>Equity(253 [AIR])</th>\n",
       "      <td>310</td>\n",
       "    </tr>\n",
       "    <tr>\n",
       "      <th>Equity(266 [AJG])</th>\n",
       "      <td>103</td>\n",
       "    </tr>\n",
       "    <tr>\n",
       "      <th>Equity(289 [MATX])</th>\n",
       "      <td>310</td>\n",
       "    </tr>\n",
       "    <tr>\n",
       "      <th>Equity(300 [ALK])</th>\n",
       "      <td>310</td>\n",
       "    </tr>\n",
       "    <tr>\n",
       "      <th>Equity(301 [ALKS])</th>\n",
       "      <td>206</td>\n",
       "    </tr>\n",
       "    <tr>\n",
       "      <th>Equity(311 [ALOG])</th>\n",
       "      <td>206</td>\n",
       "    </tr>\n",
       "    <tr>\n",
       "      <th>Equity(337 [AMAT])</th>\n",
       "      <td>311</td>\n",
       "    </tr>\n",
       "    <tr>\n",
       "      <th>Equity(351 [AMD])</th>\n",
       "      <td>311</td>\n",
       "    </tr>\n",
       "    <tr>\n",
       "      <th>...</th>\n",
       "      <td>...</td>\n",
       "    </tr>\n",
       "    <tr>\n",
       "      <th>Equity(50430 [LW])</th>\n",
       "      <td>205</td>\n",
       "    </tr>\n",
       "    <tr>\n",
       "      <th>Equity(50444 [LEXE_A])</th>\n",
       "      <td>311</td>\n",
       "    </tr>\n",
       "    <tr>\n",
       "      <th>Equity(50499 [EVHC])</th>\n",
       "      <td>206</td>\n",
       "    </tr>\n",
       "    <tr>\n",
       "      <th>Equity(50509 [ICHR])</th>\n",
       "      <td>311</td>\n",
       "    </tr>\n",
       "    <tr>\n",
       "      <th>Equity(50518 [ATH])</th>\n",
       "      <td>103</td>\n",
       "    </tr>\n",
       "    <tr>\n",
       "      <th>Equity(50526 [LGF_A])</th>\n",
       "      <td>102</td>\n",
       "    </tr>\n",
       "    <tr>\n",
       "      <th>Equity(50533 [CNDT])</th>\n",
       "      <td>310</td>\n",
       "    </tr>\n",
       "    <tr>\n",
       "      <th>Equity(50534 [HGV])</th>\n",
       "      <td>102</td>\n",
       "    </tr>\n",
       "    <tr>\n",
       "      <th>Equity(50535 [PK])</th>\n",
       "      <td>104</td>\n",
       "    </tr>\n",
       "    <tr>\n",
       "      <th>Equity(50537 [WRD])</th>\n",
       "      <td>309</td>\n",
       "    </tr>\n",
       "    <tr>\n",
       "      <th>Equity(50595 [BIVV])</th>\n",
       "      <td>206</td>\n",
       "    </tr>\n",
       "    <tr>\n",
       "      <th>Equity(50606 [VREX])</th>\n",
       "      <td>206</td>\n",
       "    </tr>\n",
       "    <tr>\n",
       "      <th>Equity(50612 [FRAC])</th>\n",
       "      <td>309</td>\n",
       "    </tr>\n",
       "    <tr>\n",
       "      <th>Equity(50616 [ANAB])</th>\n",
       "      <td>206</td>\n",
       "    </tr>\n",
       "    <tr>\n",
       "      <th>Equity(50633 [JAG])</th>\n",
       "      <td>309</td>\n",
       "    </tr>\n",
       "    <tr>\n",
       "      <th>Equity(50634 [JELD])</th>\n",
       "      <td>101</td>\n",
       "    </tr>\n",
       "    <tr>\n",
       "      <th>Equity(50636 [REVG])</th>\n",
       "      <td>102</td>\n",
       "    </tr>\n",
       "    <tr>\n",
       "      <th>Equity(50639 [LAUR])</th>\n",
       "      <td>205</td>\n",
       "    </tr>\n",
       "    <tr>\n",
       "      <th>Equity(50642 [INVH])</th>\n",
       "      <td>104</td>\n",
       "    </tr>\n",
       "    <tr>\n",
       "      <th>Equity(50683 [SNAP])</th>\n",
       "      <td>311</td>\n",
       "    </tr>\n",
       "    <tr>\n",
       "      <th>Equity(50690 [CJ])</th>\n",
       "      <td>309</td>\n",
       "    </tr>\n",
       "    <tr>\n",
       "      <th>Equity(50713 [GOOS])</th>\n",
       "      <td>102</td>\n",
       "    </tr>\n",
       "    <tr>\n",
       "      <th>Equity(50716 [DXC])</th>\n",
       "      <td>311</td>\n",
       "    </tr>\n",
       "    <tr>\n",
       "      <th>Equity(50718 [PUMP])</th>\n",
       "      <td>309</td>\n",
       "    </tr>\n",
       "    <tr>\n",
       "      <th>Equity(50719 [MULE])</th>\n",
       "      <td>311</td>\n",
       "    </tr>\n",
       "    <tr>\n",
       "      <th>Equity(50735 [AYX])</th>\n",
       "      <td>311</td>\n",
       "    </tr>\n",
       "    <tr>\n",
       "      <th>Equity(50749 [BTU])</th>\n",
       "      <td>101</td>\n",
       "    </tr>\n",
       "    <tr>\n",
       "      <th>Equity(50758 [OKTA])</th>\n",
       "      <td>311</td>\n",
       "    </tr>\n",
       "    <tr>\n",
       "      <th>Equity(50763 [SNDR])</th>\n",
       "      <td>310</td>\n",
       "    </tr>\n",
       "    <tr>\n",
       "      <th>Equity(50782 [UPL])</th>\n",
       "      <td>309</td>\n",
       "    </tr>\n",
       "  </tbody>\n",
       "</table>\n",
       "<p>2126 rows × 1 columns</p>\n",
       "</div>"
      ],
      "text/plain": [
       "                                                  sector\n",
       "2018-01-02 00:00:00+00:00 Equity(2 [ARNC])           310\n",
       "                          Equity(24 [AAPL])          311\n",
       "                          Equity(31 [ABAX])          206\n",
       "                          Equity(41 [ARCB])          310\n",
       "                          Equity(52 [ABM])           310\n",
       "                          Equity(53 [ABMD])          206\n",
       "                          Equity(62 [ABT])           206\n",
       "                          Equity(64 [ABX])           101\n",
       "                          Equity(67 [ADSK])          311\n",
       "                          Equity(76 [TAP])           205\n",
       "                          Equity(110 [ACXM])         311\n",
       "                          Equity(114 [ADBE])         311\n",
       "                          Equity(122 [ADI])          311\n",
       "                          Equity(128 [ADM])          205\n",
       "                          Equity(154 [AEM])          101\n",
       "                          Equity(161 [AEP])          207\n",
       "                          Equity(166 [AES])          207\n",
       "                          Equity(185 [AFL])          103\n",
       "                          Equity(197 [AGCO])         310\n",
       "                          Equity(216 [HES])          309\n",
       "                          Equity(239 [AIG])          103\n",
       "                          Equity(247 [AIN])          102\n",
       "                          Equity(253 [AIR])          310\n",
       "                          Equity(266 [AJG])          103\n",
       "                          Equity(289 [MATX])         310\n",
       "                          Equity(300 [ALK])          310\n",
       "                          Equity(301 [ALKS])         206\n",
       "                          Equity(311 [ALOG])         206\n",
       "                          Equity(337 [AMAT])         311\n",
       "                          Equity(351 [AMD])          311\n",
       "...                                                  ...\n",
       "                          Equity(50430 [LW])         205\n",
       "                          Equity(50444 [LEXE_A])     311\n",
       "                          Equity(50499 [EVHC])       206\n",
       "                          Equity(50509 [ICHR])       311\n",
       "                          Equity(50518 [ATH])        103\n",
       "                          Equity(50526 [LGF_A])      102\n",
       "                          Equity(50533 [CNDT])       310\n",
       "                          Equity(50534 [HGV])        102\n",
       "                          Equity(50535 [PK])         104\n",
       "                          Equity(50537 [WRD])        309\n",
       "                          Equity(50595 [BIVV])       206\n",
       "                          Equity(50606 [VREX])       206\n",
       "                          Equity(50612 [FRAC])       309\n",
       "                          Equity(50616 [ANAB])       206\n",
       "                          Equity(50633 [JAG])        309\n",
       "                          Equity(50634 [JELD])       101\n",
       "                          Equity(50636 [REVG])       102\n",
       "                          Equity(50639 [LAUR])       205\n",
       "                          Equity(50642 [INVH])       104\n",
       "                          Equity(50683 [SNAP])       311\n",
       "                          Equity(50690 [CJ])         309\n",
       "                          Equity(50713 [GOOS])       102\n",
       "                          Equity(50716 [DXC])        311\n",
       "                          Equity(50718 [PUMP])       309\n",
       "                          Equity(50719 [MULE])       311\n",
       "                          Equity(50735 [AYX])        311\n",
       "                          Equity(50749 [BTU])        101\n",
       "                          Equity(50758 [OKTA])       311\n",
       "                          Equity(50763 [SNDR])       310\n",
       "                          Equity(50782 [UPL])        309\n",
       "\n",
       "[2126 rows x 1 columns]"
      ]
     },
     "execution_count": 240,
     "metadata": {},
     "output_type": "execute_result"
    }
   ],
   "source": [
    "output=run_pipeline(make_pipeline(),end_date,end_date)\n",
    "output"
   ]
  },
  {
   "cell_type": "code",
   "execution_count": 98,
   "metadata": {
    "collapsed": true
   },
   "outputs": [],
   "source": [
    "asset_list=output.index.levels[1].unique()"
   ]
  },
  {
   "cell_type": "code",
   "execution_count": 99,
   "metadata": {
    "collapsed": true
   },
   "outputs": [],
   "source": [
    "asset_prices= get_pricing(asset_list,start_date,end_date,fields='close_price')\n",
    "asset_prices=asset_prices.dropna(axis=1)\n",
    "asset_list=asset_prices.columns"
   ]
  },
  {
   "cell_type": "code",
   "execution_count": 102,
   "metadata": {
    "collapsed": true
   },
   "outputs": [],
   "source": [
    "end_date='2015-12-31'"
   ]
  },
  {
   "cell_type": "code",
   "execution_count": 103,
   "metadata": {
    "collapsed": false
   },
   "outputs": [],
   "source": [
    "asset_prices=get_pricing(asset_list,start_date,end_date,fields='close_price')"
   ]
  },
  {
   "cell_type": "code",
   "execution_count": 104,
   "metadata": {
    "collapsed": false
   },
   "outputs": [
    {
     "data": {
      "text/plain": [
       "(756, 1676)"
      ]
     },
     "execution_count": 104,
     "metadata": {},
     "output_type": "execute_result"
    }
   ],
   "source": [
    "asset_prices.shape"
   ]
  },
  {
   "cell_type": "code",
   "execution_count": 105,
   "metadata": {
    "collapsed": false
   },
   "outputs": [],
   "source": [
    "asset_returns=asset_prices.pct_change()[1:]"
   ]
  },
  {
   "cell_type": "code",
   "execution_count": 108,
   "metadata": {
    "collapsed": false
   },
   "outputs": [
    {
     "data": {
      "text/plain": [
       "PCA(copy=True, n_components=200, whiten=False)"
      ]
     },
     "execution_count": 108,
     "metadata": {},
     "output_type": "execute_result"
    }
   ],
   "source": [
    "n_com = 200\n",
    "pca = PCA(n_components=n_com)\n",
    "pca.fit(asset_returns)"
   ]
  },
  {
   "cell_type": "code",
   "execution_count": 110,
   "metadata": {
    "collapsed": false
   },
   "outputs": [
    {
     "data": {
      "image/png": "[encoded data removed]",
      "text/plain": [
       "<matplotlib.figure.Figure at 0x7fbb7e91f390>"
      ]
     },
     "metadata": {},
     "output_type": "display_data"
    }
   ],
   "source": [
    "plt.figure()\n",
    "plt.plot(range(1,201),np.cumsum(pca.explained_variance_ratio_))\n",
    "plt.show()"
   ]
  },
  {
   "cell_type": "code",
   "execution_count": 111,
   "metadata": {
    "collapsed": false
   },
   "outputs": [
    {
     "data": {
      "text/plain": [
       "PCA(copy=True, n_components=50, whiten=False)"
      ]
     },
     "execution_count": 111,
     "metadata": {},
     "output_type": "execute_result"
    }
   ],
   "source": [
    "n_com = 50\n",
    "pca = PCA(n_components=n_com)\n",
    "pca.fit(asset_returns)"
   ]
  },
  {
   "cell_type": "code",
   "execution_count": 112,
   "metadata": {
    "collapsed": false
   },
   "outputs": [],
   "source": [
    "X=pca.components_.T"
   ]
  },
  {
   "cell_type": "code",
   "execution_count": 194,
   "metadata": {
    "collapsed": false
   },
   "outputs": [
    {
     "data": {
      "text/plain": [
       "DBSCAN(algorithm='auto', eps=1.6, leaf_size=30, metric='euclidean',\n",
       "    min_samples=2, p=None, random_state=None)"
      ]
     },
     "execution_count": 194,
     "metadata": {},
     "output_type": "execute_result"
    }
   ],
   "source": [
    "X = preprocessing.StandardScaler().fit_transform(X)\n",
    "clf1 = DBSCAN(eps=1.6, min_samples=2)\n",
    "clf1.fit(X)"
   ]
  },
  {
   "cell_type": "code",
   "execution_count": 183,
   "metadata": {
    "collapsed": false
   },
   "outputs": [],
   "source": [
    "def count_clusters(clf):\n",
    "    return len(set(clf.labels_)) - (1 if -1 in clf.labels_ else 0)"
   ]
  },
  {
   "cell_type": "code",
   "execution_count": 195,
   "metadata": {
    "collapsed": false
   },
   "outputs": [
    {
     "data": {
      "text/plain": [
       "22"
      ]
     },
     "execution_count": 195,
     "metadata": {},
     "output_type": "execute_result"
    }
   ],
   "source": [
    "count_clusters(clf1)"
   ]
  },
  {
   "cell_type": "code",
   "execution_count": 155,
   "metadata": {
    "collapsed": false
   },
   "outputs": [],
   "source": [
    "standard_asset_price= preprocessing.StandardScaler().fit_transform(asset_prices)"
   ]
  },
  {
   "cell_type": "code",
   "execution_count": 133,
   "metadata": {
    "collapsed": false
   },
   "outputs": [
    {
     "data": {
      "text/plain": [
       "PCA(copy=True, n_components=50, whiten=False)"
      ]
     },
     "execution_count": 133,
     "metadata": {},
     "output_type": "execute_result"
    }
   ],
   "source": [
    "n_com = 50\n",
    "pca = PCA(n_components=n_com)\n",
    "pca.fit(standard_asset_price)"
   ]
  },
  {
   "cell_type": "code",
   "execution_count": 134,
   "metadata": {
    "collapsed": false
   },
   "outputs": [
    {
     "data": {
      "image/png": "[encoded data removed]",
      "text/plain": [
       "<matplotlib.figure.Figure at 0x7fbb7d7e47d0>"
      ]
     },
     "metadata": {},
     "output_type": "display_data"
    }
   ],
   "source": [
    "plt.figure()\n",
    "plt.plot(range(1,51),np.cumsum(pca.explained_variance_ratio_))\n",
    "plt.show()"
   ]
  },
  {
   "cell_type": "code",
   "execution_count": 145,
   "metadata": {
    "collapsed": false
   },
   "outputs": [
    {
     "data": {
      "text/plain": [
       "PCA(copy=True, n_components=10, whiten=False)"
      ]
     },
     "execution_count": 145,
     "metadata": {},
     "output_type": "execute_result"
    }
   ],
   "source": [
    "n_com = 10\n",
    "pca = PCA(n_components=n_com)\n",
    "pca.fit(standard_asset_price)"
   ]
  },
  {
   "cell_type": "code",
   "execution_count": 146,
   "metadata": {
    "collapsed": false
   },
   "outputs": [],
   "source": [
    "X=pca.components_.T\n",
    "X = preprocessing.StandardScaler().fit_transform(X)"
   ]
  },
  {
   "cell_type": "code",
   "execution_count": 156,
   "metadata": {
    "collapsed": false
   },
   "outputs": [
    {
     "data": {
      "text/plain": [
       "DBSCAN(algorithm='auto', eps=2, leaf_size=30, metric='euclidean',\n",
       "    min_samples=2, p=None, random_state=None)"
      ]
     },
     "execution_count": 156,
     "metadata": {},
     "output_type": "execute_result"
    }
   ],
   "source": [
    "clf2 = DBSCAN(eps=2, min_samples=2)\n",
    "clf2.fit(X)"
   ]
  },
  {
   "cell_type": "code",
   "execution_count": 157,
   "metadata": {
    "collapsed": false
   },
   "outputs": [
    {
     "data": {
      "text/plain": [
       "20"
      ]
     },
     "execution_count": 157,
     "metadata": {},
     "output_type": "execute_result"
    }
   ],
   "source": [
    "count_clusters(clf2)"
   ]
  },
  {
   "cell_type": "code",
   "execution_count": 196,
   "metadata": {
    "collapsed": false
   },
   "outputs": [
    {
     "data": {
      "text/plain": [
       " 0     1028\n",
       "-1      600\n",
       " 11       6\n",
       " 7        3\n",
       " 8        3\n",
       " 9        2\n",
       " 1        2\n",
       " 2        2\n",
       " 3        2\n",
       " 4        2\n",
       " 5        2\n",
       " 6        2\n",
       " 20       2\n",
       " 19       2\n",
       " 21       2\n",
       " 12       2\n",
       " 13       2\n",
       " 14       2\n",
       " 15       2\n",
       " 16       2\n",
       " 17       2\n",
       " 18       2\n",
       " 10       2\n",
       "dtype: int64"
      ]
     },
     "execution_count": 196,
     "metadata": {},
     "output_type": "execute_result"
    }
   ],
   "source": [
    "clustered_series1 = pd.Series(index=asset_returns.columns, data=clf1.labels_.flatten())\n",
    "clustered_series1.value_counts()"
   ]
  },
  {
   "cell_type": "code",
   "execution_count": 251,
   "metadata": {
    "collapsed": false
   },
   "outputs": [
    {
     "name": "stdout",
     "output_type": "stream",
     "text": [
      "Equity(1287 [CBI]) Equity(13508 [CLB]) 0.00185675821716 cluster: 2\n",
      "sector code: 310 309\n",
      "Equity(2237 [DNB]) Equity(4751 [MDP]) 0.0082691425446 cluster: 3\n",
      "sector code: 310 102\n",
      "Equity(2633 [ETN]) Equity(7962 [CBS]) 0.00444188535284 cluster: 4\n",
      "sector code: 310 102\n",
      "Equity(2696 [FAST]) Equity(7897 [VMI]) 0.000276763997095 cluster: 5\n",
      "sector code: 310 310\n",
      "Equity(3190 [GGG]) Equity(8107 [WTS]) 0.0047944335517 cluster: 7\n",
      "sector code: 310 310\n",
      "Equity(5607 [OGE]) Equity(24064 [CNP]) 0.000329663282108 cluster: 10\n",
      "sector code: 207 207\n",
      "Equity(7408 [TEX]) Equity(7580 [TRMB]) 0.000388935465602 cluster: 11\n",
      "sector code: 310 311\n",
      "Equity(26882 [LVS]) Equity(43712 [RESI]) 0.000566444380265 cluster: 11\n",
      "sector code: 102 104\n",
      "Equity(10793 [MINI]) Equity(24862 [STAR]) 0.00323567927888 cluster: 12\n",
      "sector code: 310 104\n",
      "Equity(21935 [SJM]) Equity(34442 [G]) 0.0043583913944 cluster: 15\n",
      "sector code: 205 310\n",
      "Equity(24819 [EBAY]) Equity(26956 [PHH]) 0.00117200778434 cluster: 16\n",
      "sector code: 102 103\n",
      "Equity(26386 [SFL]) Equity(42788 [PSX]) 0.00131228778599 cluster: 17\n",
      "sector code: 310 309\n",
      "Equity(32603 [WU]) Equity(43124 [TSRO]) 0.00360902202893 cluster: 19\n",
      "sector code: 103 206\n"
     ]
    }
   ],
   "source": [
    "count=0\n",
    "significant=0\n",
    "for i in range(1,21):\n",
    "    cluster=clustered_series1[clustered_series1==i].index\n",
    "    for j in range(len(cluster)-1):\n",
    "        for k in range(j+1,len(cluster)):\n",
    "            s1=cluster[j]\n",
    "            s2=cluster[k]\n",
    "            p=coint(asset_prices.loc[:,s1],asset_prices.loc[:,s2])[1]\n",
    "            count+=1\n",
    "            if p<0.01:\n",
    "                significant+=1\n",
    "                print(\"{} {} {} cluster: {}\".format(s1,s2,p,i))\n",
    "                print(\"sector code: {} {}\".format(output.xs(symbols(s1),level=1).sector[0],output.xs(symbols(s2),level=1).sector[0]))"
   ]
  },
  {
   "cell_type": "code",
   "execution_count": 204,
   "metadata": {
    "collapsed": false
   },
   "outputs": [
    {
     "data": {
      "text/plain": [
       "38"
      ]
     },
     "execution_count": 204,
     "metadata": {},
     "output_type": "execute_result"
    }
   ],
   "source": [
    "count"
   ]
  },
  {
   "cell_type": "code",
   "execution_count": 205,
   "metadata": {
    "collapsed": false
   },
   "outputs": [
    {
     "data": {
      "text/plain": [
       "13"
      ]
     },
     "execution_count": 205,
     "metadata": {},
     "output_type": "execute_result"
    }
   ],
   "source": [
    "significant"
   ]
  },
  {
   "cell_type": "code",
   "execution_count": 206,
   "metadata": {
    "collapsed": true
   },
   "outputs": [],
   "source": [
    "pairs1=[('CBI','CLB'),('ETN','CBS'),('FAST','VMI'),('OGE','CNP'),('TEX','TRMB'),('MINI','STAR'),('SJM','G'),('EBAY','PHH'),('SFL','PSX'),('WU','TSRO')]"
   ]
  },
  {
   "cell_type": "code",
   "execution_count": 168,
   "metadata": {
    "collapsed": false
   },
   "outputs": [
    {
     "data": {
      "text/plain": [
       " 0     1277\n",
       "-1      357\n",
       " 12       5\n",
       " 9        3\n",
       " 8        2\n",
       " 1        2\n",
       " 2        2\n",
       " 3        2\n",
       " 4        2\n",
       " 5        2\n",
       " 6        2\n",
       " 7        2\n",
       " 18       2\n",
       " 17       2\n",
       " 19       2\n",
       " 11       2\n",
       " 13       2\n",
       " 14       2\n",
       " 15       2\n",
       " 16       2\n",
       " 10       2\n",
       "dtype: int64"
      ]
     },
     "execution_count": 168,
     "metadata": {},
     "output_type": "execute_result"
    }
   ],
   "source": [
    "clustered_series2 = pd.Series(index=asset_returns.columns, data=clf2.labels_.flatten())\n",
    "clustered_series2.value_counts()"
   ]
  },
  {
   "cell_type": "code",
   "execution_count": 250,
   "metadata": {
    "collapsed": false
   },
   "outputs": [
    {
     "name": "stdout",
     "output_type": "stream",
     "text": [
      "Equity(351 [AMD]) Equity(24855 [AIT]) 0.00159129523605 cluster: 1\n",
      "sector code: 311 310\n",
      "Equity(5607 [OGE]) Equity(24064 [CNP]) 0.000329663282108 cluster: 5\n",
      "sector code: 207 207\n",
      "Equity(5660 [OMI]) Equity(32714 [LDOS]) 6.53282110237e-05 cluster: 6\n",
      "sector code: 206 311\n",
      "Equity(6925 [SKYW]) Equity(18759 [IOSP]) 0.00302288629975 cluster: 7\n",
      "sector code: 310 101\n",
      "Equity(8399 [ZION]) Equity(22563 [SGEN]) 0.00264597760715 cluster: 9\n",
      "sector code: 103 206\n",
      "Equity(12856 [AGU]) Equity(32095 [PRTK]) 0.00242010696707 cluster: 11\n",
      "sector code: 101 206\n",
      "Equity(16389 [NCR]) Equity(20947 [KTOS]) 0.000467321369623 cluster: 14\n",
      "sector code: 311 310\n",
      "Equity(16754 [FBC]) Equity(21366 [OCLR]) 0.000235744016337 cluster: 15\n",
      "sector code: 103 311\n",
      "Equity(24819 [EBAY]) Equity(26956 [PHH]) 0.00117200778434 cluster: 17\n",
      "sector code: 102 103\n",
      "Equity(38538 [MDSO]) Equity(42815 [SPLK]) 9.01686383819e-05 cluster: 19\n",
      "sector code: 311 311\n"
     ]
    }
   ],
   "source": [
    "count=0\n",
    "significant=0\n",
    "for i in range(1,20):\n",
    "    cluster=clustered_series2[clustered_series2==i].index\n",
    "    for j in range(len(cluster)-1):\n",
    "        for k in range(j+1,len(cluster)):\n",
    "            s1=cluster[j]\n",
    "            s2=cluster[k]\n",
    "            p=coint(asset_prices.loc[:,s1],asset_prices.loc[:,s2])[1]\n",
    "            count+=1\n",
    "            if p<0.01:\n",
    "                significant+=1\n",
    "                print(\"{} {} {} cluster: {}\".format(s1,s2,p,i))\n",
    "                print(\"sector code: {} {}\".format(output.xs(symbols(s1),level=1).sector[0],output.xs(symbols(s2),level=1).sector[0]))"
   ]
  },
  {
   "cell_type": "code",
   "execution_count": 208,
   "metadata": {
    "collapsed": false
   },
   "outputs": [
    {
     "data": {
      "text/plain": [
       "30"
      ]
     },
     "execution_count": 208,
     "metadata": {},
     "output_type": "execute_result"
    }
   ],
   "source": [
    "count"
   ]
  },
  {
   "cell_type": "code",
   "execution_count": 209,
   "metadata": {
    "collapsed": false
   },
   "outputs": [
    {
     "data": {
      "text/plain": [
       "10"
      ]
     },
     "execution_count": 209,
     "metadata": {},
     "output_type": "execute_result"
    }
   ],
   "source": [
    "significant"
   ]
  },
  {
   "cell_type": "code",
   "execution_count": 180,
   "metadata": {
    "collapsed": false
   },
   "outputs": [],
   "source": [
    "pairs2=[('AMD','AIT'),('OGE','CNP'),('OMI','LDOS'),('SKYW','IOSP'),('ZION','SGEN'),('AGU','PRTK'),('NCR','KTOS'),('FBC','OCLR'),('EBAY','PHH'),('MDSO','SPLK')]"
   ]
  },
  {
   "cell_type": "code",
   "execution_count": 210,
   "metadata": {
    "collapsed": false
   },
   "outputs": [
    {
     "data": {
      "text/plain": [
       "[('CBI', 'CLB'),\n",
       " ('ETN', 'CBS'),\n",
       " ('FAST', 'VMI'),\n",
       " ('OGE', 'CNP'),\n",
       " ('TEX', 'TRMB'),\n",
       " ('MINI', 'STAR'),\n",
       " ('SJM', 'G'),\n",
       " ('EBAY', 'PHH'),\n",
       " ('SFL', 'PSX'),\n",
       " ('WU', 'TSRO')]"
      ]
     },
     "execution_count": 210,
     "metadata": {},
     "output_type": "execute_result"
    }
   ],
   "source": [
    "pairs1"
   ]
  },
  {
   "cell_type": "code",
   "execution_count": 211,
   "metadata": {
    "collapsed": false
   },
   "outputs": [
    {
     "data": {
      "text/plain": [
       "[('AMD', 'AIT'),\n",
       " ('OGE', 'CNP'),\n",
       " ('OMI', 'LDOS'),\n",
       " ('SKYW', 'IOSP'),\n",
       " ('ZION', 'SGEN'),\n",
       " ('AGU', 'PRTK'),\n",
       " ('NCR', 'KTOS'),\n",
       " ('FBC', 'OCLR'),\n",
       " ('EBAY', 'PHH'),\n",
       " ('MDSO', 'SPLK')]"
      ]
     },
     "execution_count": 211,
     "metadata": {},
     "output_type": "execute_result"
    }
   ],
   "source": [
    "pairs2"
   ]
  },
  {
   "cell_type": "code",
   "execution_count": 219,
   "metadata": {
    "collapsed": false
   },
   "outputs": [],
   "source": [
    "beta1=[]\n",
    "for p in pairs1:\n",
    "    s1=p[0]\n",
    "    s2=p[1]\n",
    "    model=sm.OLS(asset_prices.loc[:,symbols(s1)],asset_prices.loc[:,symbols(s2)])\n",
    "    beta1.append(model.fit().params[0])"
   ]
  },
  {
   "cell_type": "code",
   "execution_count": 220,
   "metadata": {
    "collapsed": false
   },
   "outputs": [
    {
     "data": {
      "text/plain": [
       "[0.41656648926980155,\n",
       " 1.1814967812238177,\n",
       " 0.32805941405266326,\n",
       " 1.5415380133153769,\n",
       " 1.0741530984090388,\n",
       " 2.788303966644766,\n",
       " 5.1761642920189974,\n",
       " 2.2466912063448463,\n",
       " 0.19884958797409863,\n",
       " 0.41912473327020894]"
      ]
     },
     "execution_count": 220,
     "metadata": {},
     "output_type": "execute_result"
    }
   ],
   "source": [
    "beta1"
   ]
  },
  {
   "cell_type": "code",
   "execution_count": 229,
   "metadata": {
    "collapsed": false
   },
   "outputs": [],
   "source": [
    "beta2=[]\n",
    "for p in pairs2:\n",
    "    s1=p[0]\n",
    "    s2=p[1]\n",
    "    model=sm.OLS(asset_prices.loc[:,symbols(s1)],asset_prices.loc[:,symbols(s2)])\n",
    "    beta2.append(model.fit().params[0])"
   ]
  },
  {
   "cell_type": "code",
   "execution_count": 230,
   "metadata": {
    "collapsed": false
   },
   "outputs": [
    {
     "data": {
      "text/plain": [
       "[0.071660329683977703,\n",
       " 1.5415380133153769,\n",
       " 0.82127364944403747,\n",
       " 0.32106429886679783,\n",
       " 0.70640457208697205,\n",
       " 4.358749852409165,\n",
       " 4.8540941284237924,\n",
       " 8.1511234740595668,\n",
       " 2.2466912063448463,\n",
       " 0.78057494236212355]"
      ]
     },
     "execution_count": 230,
     "metadata": {},
     "output_type": "execute_result"
    }
   ],
   "source": [
    "beta2"
   ]
  },
  {
   "cell_type": "code",
   "execution_count": 248,
   "metadata": {
    "collapsed": false
   },
   "outputs": [
    {
     "data": {
      "text/plain": [
       "311"
      ]
     },
     "execution_count": 248,
     "metadata": {},
     "output_type": "execute_result"
    }
   ],
   "source": [
    "output.xs(symbols('AMD'),level=1).sector[0]"
   ]
  },
  {
   "cell_type": "code",
   "execution_count": null,
   "metadata": {
    "collapsed": true
   },
   "outputs": [],
   "source": []
  }
 ],
 "metadata": {
  "kernelspec": {
   "display_name": "Python 2",
   "language": "python",
   "name": "python2"
  },
  "language_info": {
   "codemirror_mode": {
    "name": "ipython",
    "version": 2
   },
   "file_extension": ".py",
   "mimetype": "text/x-python",
   "name": "python",
   "nbconvert_exporter": "python",
   "pygments_lexer": "ipython2",
   "version": "2.7.12"
  }
 },
 "nbformat": 4,
 "nbformat_minor": 2
}